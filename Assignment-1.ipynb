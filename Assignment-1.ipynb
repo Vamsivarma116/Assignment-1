{
 "cells": [
  {
   "cell_type": "markdown",
   "id": "a4124b11-9f73-4d28-afa4-9aa54e117a15",
   "metadata": {},
   "source": [
    "1. Who Developed Python Programming Language ?\n",
    "\n",
    "  A. Mr. Guido van Rossum sir Developed Python Programming language."
   ]
  },
  {
   "cell_type": "markdown",
   "id": "17124304-65cb-4ba4-8c33-d96cff2b043f",
   "metadata": {},
   "source": [
    "2. Which type of programming does python support ?\n",
    "\n",
    "A. Python Supports Object Oriented as well as Functional Programming."
   ]
  },
  {
   "cell_type": "markdown",
   "id": "eafca86f-66a5-4915-8f7c-515b8824803f",
   "metadata": {},
   "source": [
    "3. Is Python Case Sensitive when Dealing with identifiers ? \n",
    "\n",
    "A. Yes, Python is Case Sensitive while Dealing with identifiers."
   ]
  },
  {
   "cell_type": "markdown",
   "id": "5c984563-6139-4589-a981-a21938f86ac7",
   "metadata": {},
   "source": [
    "4. What is the correct extension for the python file ?\n",
    "\n",
    "A. The Correct Extension of Python File is (\".py\")."
   ]
  },
  {
   "cell_type": "markdown",
   "id": "a715fab0-cc78-4725-9f27-a595ea66f577",
   "metadata": {},
   "source": [
    "5. Is python code compiled or interpreted ? \n",
    "\n",
    "A. Yes, Python Code is Interpreted."
   ]
  },
  {
   "cell_type": "markdown",
   "id": "fb90b762-ce79-44b7-be3a-2c1b0b51250b",
   "metadata": {},
   "source": [
    "6. Name a few blocks of code used to define in python language ?\n",
    "\n",
    "A. Indentation is used to define a block of code in python language."
   ]
  },
  {
   "cell_type": "markdown",
   "id": "9170b065-7582-4c50-bc54-0795e6ab622d",
   "metadata": {},
   "source": [
    "7. State a character used to give single-line comments in python ?\n",
    "\n",
    "A. \"#\" is used to give Single Line Comments in Python."
   ]
  },
  {
   "cell_type": "markdown",
   "id": "58088f00-b357-49e6-a33a-7ffbe29d2d67",
   "metadata": {},
   "source": [
    "8. Mention functions which can help us to find version of python that we are currently working on ? \n",
    "\n",
    "A. \n",
    "    \n",
    "    Using (sys.version) We can Find the version of python.\n",
    "    Using python_version() function We can Find the version of python.\n",
    "    Using Python -V command We can Find the version of python."
   ]
  },
  {
   "cell_type": "markdown",
   "id": "828ebaaa-7e7e-4cd6-89a6-5197fef6736c",
   "metadata": {},
   "source": [
    "9.  Python supports to make anonymous functions which are not bound to a name at runtime \n",
    "    using a construct called .......... ? \n",
    "    \n",
    "A.  Python supports to make anonymous functions which are not bound to a name at runtime \n",
    "    using a construct called \"lambda\" "
   ]
  },
  {
   "cell_type": "markdown",
   "id": "b90874ce-6415-4673-8b5a-14e42127558d",
   "metadata": {},
   "source": [
    "10. What does pip stand for python ?\n",
    "\n",
    "A.  PIP stands for preferred installer program in Python."
   ]
  },
  {
   "cell_type": "markdown",
   "id": "ed6c536f-bf16-44bd-af0a-e19fb5d570ea",
   "metadata": {},
   "source": [
    "11. Mention a few built in functions in python ?\n",
    "\n",
    "A.  Few builtin Functions in python are :\n",
    "    print()\n",
    "    type()\n",
    "    input()\n",
    "    int()\n",
    "    list()"
   ]
  },
  {
   "cell_type": "markdown",
   "id": "8f2dd9da-3838-484c-bb1e-d813867e1d74",
   "metadata": {},
   "source": [
    "12. What is the maximum possible length of an identifier in python ?\n",
    "\n",
    "A.  The maximum length of an identifier in python is 79 characters."
   ]
  },
  {
   "cell_type": "markdown",
   "id": "c38ec694-31c6-4130-9599-ae46742461a4",
   "metadata": {},
   "source": [
    "13. What are the benefits of using python ?\n",
    "\n",
    "A.  Benefits of Python are:-\n",
    "      1.Web Development\n",
    "      2.Machine Learning\n",
    "      3.Data Science\n",
    "      4.Deep Learning\n",
    "      5.Computer vision.etc.........."
   ]
  },
  {
   "cell_type": "markdown",
   "id": "fb249686-f4ce-4650-be9b-bb794e809546",
   "metadata": {},
   "source": [
    "14. How is memory managed in python ? \n",
    "\n",
    "A.  Memory managed in Python in a heap containing all Python objects."
   ]
  },
  {
   "cell_type": "markdown",
   "id": "460fd461-7487-4578-a764-a52c4184520c",
   "metadata": {},
   "source": [
    "15. How to install Python on Windows and set path variables ?\n",
    "\n",
    "A.      Steps to install Python:-\n",
    "\n",
    "       Step 1: Download the Python Installer binaries.\n",
    "       Step 2: Run the Executable Installer.\n",
    "       Step 3: Add Python to environmental variables.\n",
    "       Step 4: Verify the Python Installation.\n",
    "   \n",
    "      Setting path variable:-\n",
    "       1. Right-clicking This PC and going to Properties.\n",
    "       2. Clicking on the Advanced system settings in the menu on the left.\n",
    "       3. Clicking on the Environment Variables button on the bottom right.\n",
    "       4. In the System variables section, selecting the Path variable and clicking on Edit. \n",
    "          The next screen will show all the directories that are currently a part of the PATH variable.\n",
    "       5. Clicking on New and entering Python’s install directory."
   ]
  },
  {
   "cell_type": "markdown",
   "id": "f87731dc-f770-4bb2-8ae3-e5d22484f0ff",
   "metadata": {},
   "source": [
    "16. Is indentation required in python ?\n",
    "\n",
    "A.  Yes, Indentation Required in python."
   ]
  }
 ],
 "metadata": {
  "kernelspec": {
   "display_name": "Python 3 (ipykernel)",
   "language": "python",
   "name": "python3"
  },
  "language_info": {
   "codemirror_mode": {
    "name": "ipython",
    "version": 3
   },
   "file_extension": ".py",
   "mimetype": "text/x-python",
   "name": "python",
   "nbconvert_exporter": "python",
   "pygments_lexer": "ipython3",
   "version": "3.10.8"
  }
 },
 "nbformat": 4,
 "nbformat_minor": 5
}
